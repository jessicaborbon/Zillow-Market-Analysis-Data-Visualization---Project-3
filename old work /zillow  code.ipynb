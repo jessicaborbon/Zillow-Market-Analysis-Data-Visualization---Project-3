{
 "cells": [
  {
   "cell_type": "code",
   "execution_count": null,
   "metadata": {},
   "outputs": [],
   "source": [
    "import requests\n",
    "import json\n",
    "from pprint import pprint\n",
    "from config import zillow_key\n",
    "import pandas as pd\n"
   ]
  },
  {
   "cell_type": "code",
   "execution_count": null,
   "metadata": {},
   "outputs": [],
   "source": [
    "base_url = f'https://data.nasdaq.com/api/v3/datatables/ZILLOW/REGIONS?api_key={zillow_key}'\n",
    "response = requests.get(base_url)\n",
    "data = response.json()\n",
    "pprint(data)\n",
    "filter_string = \"Phoenix-Mesa-Chandler, AZ;Phoenix;Maricopa County\"\n",
    "filtered_data = [\n",
    "    entry for entry in data['datatable']['data']\n",
    "    if filter_string in entry[2]\n",
    "]\n",
    "pprint(filtered_data)\n"
   ]
  },
  {
   "cell_type": "code",
   "execution_count": null,
   "metadata": {},
   "outputs": [],
   "source": [
    "regions_columns = ['region_id', 'region_type', 'region']\n",
    "region_zillow_df = pd.DataFrame(filtered_data, columns=regions_columns)\n",
    "region_zillow_df.to_csv('zillow_region.csv', index=False)"
   ]
  },
  {
   "cell_type": "code",
   "execution_count": null,
   "metadata": {},
   "outputs": [],
   "source": [
    "extracted_ids = [entry[0] for entry in filtered_data]\n",
    "zip_ids = [[entry[0], entry[2]] for entry in filtered_data]\n",
    "pprint(zip_ids)\n"
   ]
  },
  {
   "cell_type": "code",
   "execution_count": null,
   "metadata": {},
   "outputs": [],
   "source": [
    "location_map = {entry[0]: entry[1] for entry in zip_ids}\n",
    "indicators = [\"ZSFH\", \"ZCON\", \"Z5BR\"]\n",
    "region_ids = extracted_ids\n",
    "second_url = \"https://data.nasdaq.com/api/v3/datatables/ZILLOW/DATA\"\n",
    "all_data = []\n",
    "for region_id in region_ids:\n",
    "    for indicator in indicators:\n",
    "        url = f\"{second_url}?indicator_id={indicator}&region_id={region_id}&api_key={zillow_key}\"\n",
    "        response = requests.get(url)\n",
    "        if response.status_code == 200:\n",
    "            data = response.json()\n",
    "            for item in data['datatable']['data']:\n",
    "                full_location = location_map.get(region_id, \"Location not found\")\n",
    "                zip_code = full_location.split(';')[0]\n",
    "                item.append(zip_code)\n",
    "                all_data.append(item)\n",
    "        else:\n",
    "            print(f\"Failed to retrieve data for region_id {region_id}, indicator {indicator}\")\n",
    "pprint(all_data)\n"
   ]
  },
  {
   "cell_type": "code",
   "execution_count": null,
   "metadata": {},
   "outputs": [],
   "source": [
    "columns = ['indicator_id', 'region_id', 'date', 'value', 'zip']\n",
    "zillow_df = pd.DataFrame(all_data, columns=columns)\n",
    "zillow_df['date'] = pd.to_datetime(zillow_df['date'])\n",
    "zillow_df\n",
    "zillow_df.to_csv('zillow_data.csv', index=False)"
   ]
  },
  {
   "cell_type": "code",
   "execution_count": null,
   "metadata": {},
   "outputs": [],
   "source": [
    "third_url = f'https://data.nasdaq.com/api/v3/datatables/ZILLOW/INDICATORS?api_key={zillow_key}'\n",
    "response_indicators = requests.get(third_url)\n",
    "data_indicators = response_indicators.json()\n",
    "desired_indicators = [\"ZSFH\", \"ZCON\", \"Z5BR\"]\n",
    "\n",
    "filtered_indicators = [\n",
    "    entry for entry in data_indicators['datatable']['data']\n",
    "    if entry[0] in desired_indicators\n",
    "]\n",
    "\n",
    "pprint(filtered_indicators)\n"
   ]
  },
  {
   "cell_type": "code",
   "execution_count": null,
   "metadata": {},
   "outputs": [],
   "source": [
    "indicators_columns = ['indicators_id', 'indicators', 'category']\n",
    "indicators_zillow_df = pd.DataFrame(filtered_indicators, columns=indicators_columns)\n",
    "indicators_zillow_df.to_csv('zillow_indicators.csv', index=False)"
   ]
  },
  {
   "cell_type": "code",
   "execution_count": null,
   "metadata": {},
   "outputs": [],
   "source": []
  }
 ],
 "metadata": {
  "kernelspec": {
   "display_name": "Python 3 (ipykernel)",
   "language": "python",
   "name": "python3"
  },
  "language_info": {
   "codemirror_mode": {
    "name": "ipython",
    "version": 3
   },
   "file_extension": ".py",
   "mimetype": "text/x-python",
   "name": "python",
   "nbconvert_exporter": "python",
   "pygments_lexer": "ipython3",
   "version": "3.10.14"
  }
 },
 "nbformat": 4,
 "nbformat_minor": 4
}
